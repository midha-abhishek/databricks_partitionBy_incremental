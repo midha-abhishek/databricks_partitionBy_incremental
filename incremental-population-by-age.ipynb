{
 "cells": [
  {
   "cell_type": "markdown",
   "metadata": {
    "application/vnd.databricks.v1+cell": {
     "cellMetadata": {},
     "inputWidgets": {},
     "nuid": "39757738-2e55-41d6-8954-d07eb4293dd2",
     "showTitle": false,
     "tableResultSettingsMap": {},
     "title": ""
    }
   },
   "source": [
    "# Establishing Connections (Linking to the Storage Account Services)"
   ]
  },
  {
   "cell_type": "code",
   "execution_count": 0,
   "metadata": {
    "application/vnd.databricks.v1+cell": {
     "cellMetadata": {
      "byteLimit": 2048000,
      "rowLimit": 10000
     },
     "inputWidgets": {},
     "nuid": "a5ad206a-f4de-4718-840e-4b5d4045ba3f",
     "showTitle": false,
     "tableResultSettingsMap": {},
     "title": ""
    }
   },
   "outputs": [
    {
     "output_type": "execute_result",
     "data": {
      "text/plain": [
       "[SecretScope(name='keyvault20241026scope')]"
      ]
     },
     "execution_count": 127,
     "metadata": {},
     "output_type": "execute_result"
    }
   ],
   "source": [
    "dbutils.secrets.listScopes()"
   ]
  },
  {
   "cell_type": "code",
   "execution_count": 0,
   "metadata": {
    "application/vnd.databricks.v1+cell": {
     "cellMetadata": {
      "byteLimit": 2048000,
      "rowLimit": 10000
     },
     "inputWidgets": {},
     "nuid": "eb3513d0-ac3c-4b98-9df1-7a5a17d104e0",
     "showTitle": false,
     "tableResultSettingsMap": {},
     "title": ""
    }
   },
   "outputs": [
    {
     "output_type": "execute_result",
     "data": {
      "text/plain": [
       "[SecretMetadata(key='client-id'),\n",
       " SecretMetadata(key='client-secret'),\n",
       " SecretMetadata(key='directory-id')]"
      ]
     },
     "execution_count": 128,
     "metadata": {},
     "output_type": "execute_result"
    }
   ],
   "source": [
    "dbutils.secrets.list(\"keyvault20241026scope\")"
   ]
  },
  {
   "cell_type": "code",
   "execution_count": 0,
   "metadata": {
    "application/vnd.databricks.v1+cell": {
     "cellMetadata": {
      "byteLimit": 2048000,
      "rowLimit": 10000
     },
     "inputWidgets": {},
     "nuid": "89559b5e-1fa8-4577-91da-5af7cee83bf4",
     "showTitle": false,
     "tableResultSettingsMap": {},
     "title": ""
    }
   },
   "outputs": [],
   "source": [
    "client_id = dbutils.secrets.get(\"keyvault20241026scope\", \"client-id\")\n",
    "client_secret = dbutils.secrets.get(\"keyvault20241026scope\", \"client-secret\")\n",
    "directory_id = dbutils.secrets.get(\"keyvault20241026scope\", \"directory-id\")"
   ]
  },
  {
   "cell_type": "code",
   "execution_count": 0,
   "metadata": {
    "application/vnd.databricks.v1+cell": {
     "cellMetadata": {
      "byteLimit": 2048000,
      "rowLimit": 10000
     },
     "inputWidgets": {},
     "nuid": "afe59e38-d415-490e-882d-06e12cef136f",
     "showTitle": false,
     "tableResultSettingsMap": {},
     "title": ""
    }
   },
   "outputs": [],
   "source": [
    "configs = {\"fs.azure.account.auth.type\": \"OAuth\",\n",
    "          \"fs.azure.account.oauth.provider.type\": \"org.apache.hadoop.fs.azurebfs.oauth2.ClientCredsTokenProvider\",\n",
    "          \"fs.azure.account.oauth2.client.id\": client_id,\n",
    "          \"fs.azure.account.oauth2.client.secret\": client_secret,\n",
    "          \"fs.azure.account.oauth2.client.endpoint\": f\"https://login.microsoftonline.com/{directory_id}/oauth2/token\"}"
   ]
  },
  {
   "cell_type": "markdown",
   "metadata": {
    "application/vnd.databricks.v1+cell": {
     "cellMetadata": {},
     "inputWidgets": {},
     "nuid": "2e395c1c-2287-44d4-8234-537e125fd025",
     "showTitle": false,
     "tableResultSettingsMap": {},
     "title": ""
    }
   },
   "source": [
    "## Mounting the storage containers locally"
   ]
  },
  {
   "cell_type": "code",
   "execution_count": 0,
   "metadata": {
    "application/vnd.databricks.v1+cell": {
     "cellMetadata": {
      "byteLimit": 2048000,
      "rowLimit": 10000
     },
     "inputWidgets": {},
     "nuid": "729969f3-f643-4490-b45e-be9991f8d909",
     "showTitle": false,
     "tableResultSettingsMap": {},
     "title": ""
    }
   },
   "outputs": [],
   "source": [
    "storage_account = \"datalake20241022\"\n",
    "\n",
    "container_raw = \"raw\"\n",
    "container_processed = \"processed\"\n",
    "\n",
    "source_raw = f\"abfss://{container_raw}@{storage_account}.dfs.core.windows.net/\"\n",
    "mount_point_raw = f\"/mnt/{storage_account}/{container_raw}\"\n",
    "\n",
    "source_processed = f\"abfss://{container_processed}@{storage_account}.dfs.core.windows.net/\"\n",
    "mount_point_processed = f\"/mnt/{storage_account}/{container_processed}\""
   ]
  },
  {
   "cell_type": "code",
   "execution_count": 0,
   "metadata": {
    "application/vnd.databricks.v1+cell": {
     "cellMetadata": {
      "byteLimit": 2048000,
      "rowLimit": 10000
     },
     "inputWidgets": {},
     "nuid": "a2843ab0-3ff2-4be1-ba2c-e09cc2d77d27",
     "showTitle": false,
     "tableResultSettingsMap": {},
     "title": ""
    }
   },
   "outputs": [
    {
     "output_type": "stream",
     "name": "stdout",
     "output_type": "stream",
     "text": [
      "/mnt/datalake20241022/raw has been unmounted.\nUnmount existing mount at /mnt/datalake20241022/raw\nMounted successfully at /mnt/datalake20241022/raw\n"
     ]
    }
   ],
   "source": [
    "if any(mount.mountPoint == mount_point_raw for mount in dbutils.fs.mounts()):\n",
    "    # Unmount the existing mount point\n",
    "    dbutils.fs.unmount(mount_point_raw)\n",
    "\n",
    "    print(f\"Unmount existing mount at {mount_point_raw}\")\n",
    "\n",
    "try:\n",
    "    dbutils.fs.mount(\n",
    "        source = source_raw,\n",
    "        mount_point = mount_point_raw,\n",
    "        extra_configs = configs\n",
    "    )\n",
    "    print(f\"Mounted successfully at {mount_point_raw}\")\n",
    "except Exception as e:\n",
    "    print(f\"Error mounting: {mount_point_raw}\")"
   ]
  },
  {
   "cell_type": "code",
   "execution_count": 0,
   "metadata": {
    "application/vnd.databricks.v1+cell": {
     "cellMetadata": {
      "byteLimit": 2048000,
      "rowLimit": 10000
     },
     "inputWidgets": {},
     "nuid": "b4abb048-6ce5-47b9-9c4c-88bbac0c4f7e",
     "showTitle": false,
     "tableResultSettingsMap": {},
     "title": ""
    }
   },
   "outputs": [
    {
     "output_type": "stream",
     "name": "stdout",
     "output_type": "stream",
     "text": [
      "/mnt/datalake20241022/processed has been unmounted.\nUnmount existing mount at /mnt/datalake20241022/processed\nMounted successfully at /mnt/datalake20241022/processed\n"
     ]
    }
   ],
   "source": [
    "if any(mount.mountPoint == mount_point_processed for mount in dbutils.fs.mounts()):\n",
    "    # Unmount the existing mount point\n",
    "    dbutils.fs.unmount(mount_point_processed)\n",
    "\n",
    "    print(f\"Unmount existing mount at {mount_point_processed}\")\n",
    "\n",
    "try:\n",
    "    dbutils.fs.mount(\n",
    "        source = source_processed,\n",
    "        mount_point = mount_point_processed,\n",
    "        extra_configs = configs\n",
    "    )\n",
    "    print(f\"Mounted successfully at {mount_point_processed}\")\n",
    "except Exception as e:\n",
    "    print(f\"Error mounting: {mount_point_processed}\")"
   ]
  },
  {
   "cell_type": "markdown",
   "metadata": {
    "application/vnd.databricks.v1+cell": {
     "cellMetadata": {},
     "inputWidgets": {},
     "nuid": "7c8e25cd-eec5-46da-b103-e02d28cc7b23",
     "showTitle": false,
     "tableResultSettingsMap": {},
     "title": ""
    }
   },
   "source": [
    "# Extraction: Reading the CSV/TSV File"
   ]
  },
  {
   "cell_type": "code",
   "execution_count": 0,
   "metadata": {
    "application/vnd.databricks.v1+cell": {
     "cellMetadata": {
      "byteLimit": 2048000,
      "rowLimit": 10000
     },
     "inputWidgets": {},
     "nuid": "1dba43b1-8c5c-44cc-9198-bed52872d3ed",
     "showTitle": false,
     "tableResultSettingsMap": {},
     "title": ""
    }
   },
   "outputs": [
    {
     "output_type": "stream",
     "name": "stdout",
     "output_type": "stream",
     "text": [
      "+-----------------+------+-----+------+------+-----+-----+------+-----+-----+-----+-----+-----+\n|indic_de,geo\\time| 2008 |2009 | 2010 | 2011 |2012 |2013 | 2014 |2015 |2016 |2017 |2018 |2019 |\n+-----------------+------+-----+------+------+-----+-----+------+-----+-----+-----+-----+-----+\n|     PC_Y50_64,PL| 19.6 |20.2 |21.0 b| 21.4 |21.5 |21.4 | 21.3 |21.1 |20.8 |20.4 |20.1 |19.7 |\n|     PC_Y50_64,PT| 18.3 |18.6 | 18.8 | 19.1 |19.4 |19.8 | 20.0 |20.2 |20.4 |20.6 |20.7 |20.9 |\n|     PC_Y50_64,RO| 18.9 |20.0 | 20.0 | 20.1 |20.0 |20.0 |19.8 e|19.3 |18.9 |18.6 |19.1 |19.7 |\n|     PC_Y50_64,RS| 20.7 |21.0 | 21.4 |22.7 b|22.8 |22.8 | 22.6 |22.3 |21.9 |21.7 |21.3 |20.9 |\n|     PC_Y50_64,RU| 17.7 |18.7 | 19.7 | 20.5 |   : |   : | 21.4 |   : |   : |   : |   : |   : |\n|     PC_Y50_64,SE| 19.6 |19.4 | 19.1 | 18.8 |18.5 |18.3 | 18.1 |18.1 |18.1 |18.1 |18.1 |18.1 |\n|     PC_Y50_64,SI|19.9 b|20.0 | 20.3 | 20.9 |21.2 |21.4 | 21.5 |21.6 |21.7 |21.8 |21.8 |21.6 |\n|     PC_Y50_64,SK| 18.9 |19.3 | 19.6 | 19.9 |20.2 |20.3 | 20.3 |20.4 |20.4 |20.2 |19.9 |19.7 |\n|     PC_Y50_64,SM|    : |   : |    : |    : |19.6 |20.0 |    : |   : |   : |   : |22.9 |   : |\n|     PC_Y50_64,TR| 11.9 |12.2 | 12.4 | 12.8 |13.1 |13.5 | 13.8 |14.1 |14.5 |14.8 |14.9 |15.0 |\n|     PC_Y50_64,UA| 17.8 |18.5 | 19.1 | 19.9 |20.4 |20.7 | 20.9 |20.8 |20.7 |20.6 |20.6 |20.6 |\n|     PC_Y50_64,UK| 18.0 |18.0 | 18.1 | 18.2 |18.2 |18.1 | 18.2 |18.4 |18.5 |18.7 |18.9 |19.1 |\n|     PC_Y50_64,XK|    : |   : |    : |    : |   : |   : |    : |   : |12.2 |13.5 |13.5 |14.1 |\n|     PC_Y65_79,AD|  8.2 | 8.3 |  8.7 |  8.6 | 8.6 | 8.6 |    : |   : |   : |   : |   : |10.2 |\n|     PC_Y65_79,AL|  8.4 | 8.7 |  9.0 |  9.1 | 9.3 | 9.6 |  9.9 |10.2 |10.5 |10.7 |11.0 |11.4 |\n+-----------------+------+-----+------+------+-----+-----+------+-----+-----+-----+-----+-----+\nonly showing top 15 rows\n\n"
     ]
    }
   ],
   "source": [
    "csv_files = \"population_by_age_*.tsv\"\n",
    "\n",
    "df = spark.read.options(delimiter = \"\\t\", header = True, inferSchema = True).csv(f\"{mount_point_raw}/{csv_files}\")\n",
    "df.show(15)"
   ]
  },
  {
   "cell_type": "markdown",
   "metadata": {
    "application/vnd.databricks.v1+cell": {
     "cellMetadata": {},
     "inputWidgets": {},
     "nuid": "c83edca8-435d-40cf-85c8-d87cefb04ec3",
     "showTitle": false,
     "tableResultSettingsMap": {},
     "title": ""
    }
   },
   "source": [
    "## Transformation"
   ]
  },
  {
   "cell_type": "markdown",
   "metadata": {
    "application/vnd.databricks.v1+cell": {
     "cellMetadata": {},
     "inputWidgets": {},
     "nuid": "c696c1b8-36c9-4d0d-b64d-5780be6721d9",
     "showTitle": false,
     "tableResultSettingsMap": {},
     "title": ""
    }
   },
   "source": [
    "## Checking Schema and Column names"
   ]
  },
  {
   "cell_type": "code",
   "execution_count": 0,
   "metadata": {
    "application/vnd.databricks.v1+cell": {
     "cellMetadata": {
      "byteLimit": 2048000,
      "rowLimit": 10000
     },
     "inputWidgets": {},
     "nuid": "99b5ef9e-4306-46b1-8877-a74ed9e6c8be",
     "showTitle": false,
     "tableResultSettingsMap": {},
     "title": ""
    }
   },
   "outputs": [
    {
     "output_type": "stream",
     "name": "stdout",
     "output_type": "stream",
     "text": [
      "root\n |-- indic_de,geo\\time: string (nullable = true)\n |-- 2008 : string (nullable = true)\n |-- 2009 : string (nullable = true)\n |-- 2010 : string (nullable = true)\n |-- 2011 : string (nullable = true)\n |-- 2012 : string (nullable = true)\n |-- 2013 : string (nullable = true)\n |-- 2014 : string (nullable = true)\n |-- 2015 : string (nullable = true)\n |-- 2016 : string (nullable = true)\n |-- 2017 : string (nullable = true)\n |-- 2018 : string (nullable = true)\n |-- 2019 : string (nullable = true)\n\n"
     ]
    }
   ],
   "source": [
    "df.printSchema()"
   ]
  },
  {
   "cell_type": "code",
   "execution_count": 0,
   "metadata": {
    "application/vnd.databricks.v1+cell": {
     "cellMetadata": {
      "byteLimit": 2048000,
      "rowLimit": 10000
     },
     "inputWidgets": {},
     "nuid": "a9acb1cb-ebf4-40ab-ba29-588e27cb5fad",
     "showTitle": false,
     "tableResultSettingsMap": {},
     "title": ""
    }
   },
   "outputs": [
    {
     "output_type": "execute_result",
     "data": {
      "text/plain": [
       "['indic_de,geo\\\\time',\n",
       " '2008 ',\n",
       " '2009 ',\n",
       " '2010 ',\n",
       " '2011 ',\n",
       " '2012 ',\n",
       " '2013 ',\n",
       " '2014 ',\n",
       " '2015 ',\n",
       " '2016 ',\n",
       " '2017 ',\n",
       " '2018 ',\n",
       " '2019 ']"
      ]
     },
     "execution_count": 136,
     "metadata": {},
     "output_type": "execute_result"
    }
   ],
   "source": [
    "df.columns"
   ]
  },
  {
   "cell_type": "markdown",
   "metadata": {
    "application/vnd.databricks.v1+cell": {
     "cellMetadata": {},
     "inputWidgets": {},
     "nuid": "af9d6510-de0f-4ba2-a403-8da4e521a776",
     "showTitle": false,
     "tableResultSettingsMap": {},
     "title": ""
    }
   },
   "source": [
    "> Note that there's an extra space at the end of each year field."
   ]
  },
  {
   "cell_type": "markdown",
   "metadata": {
    "application/vnd.databricks.v1+cell": {
     "cellMetadata": {},
     "inputWidgets": {},
     "nuid": "859cfb65-37df-4f64-acfa-1fd884d5fb4f",
     "showTitle": false,
     "tableResultSettingsMap": {},
     "title": ""
    }
   },
   "source": [
    "## Renaming columns"
   ]
  },
  {
   "cell_type": "code",
   "execution_count": 0,
   "metadata": {
    "application/vnd.databricks.v1+cell": {
     "cellMetadata": {
      "byteLimit": 2048000,
      "rowLimit": 10000
     },
     "inputWidgets": {},
     "nuid": "2108ab12-63d7-4fd7-8da3-29bb81bd83de",
     "showTitle": false,
     "tableResultSettingsMap": {},
     "title": ""
    }
   },
   "outputs": [
    {
     "output_type": "stream",
     "name": "stdout",
     "output_type": "stream",
     "text": [
      "+------------+------+------+------+------+------+------+------+------+------+------+------+------+\n|    geo_time|y_2008|y_2009|y_2010|y_2011|y_2012|y_2013|y_2014|y_2015|y_2016|y_2017|y_2018|y_2019|\n+------------+------+------+------+------+------+------+------+------+------+------+------+------+\n|PC_Y50_64,PL| 19.6 | 20.2 |21.0 b| 21.4 | 21.5 | 21.4 | 21.3 | 21.1 | 20.8 | 20.4 | 20.1 | 19.7 |\n|PC_Y50_64,PT| 18.3 | 18.6 | 18.8 | 19.1 | 19.4 | 19.8 | 20.0 | 20.2 | 20.4 | 20.6 | 20.7 | 20.9 |\n|PC_Y50_64,RO| 18.9 | 20.0 | 20.0 | 20.1 | 20.0 | 20.0 |19.8 e| 19.3 | 18.9 | 18.6 | 19.1 | 19.7 |\n|PC_Y50_64,RS| 20.7 | 21.0 | 21.4 |22.7 b| 22.8 | 22.8 | 22.6 | 22.3 | 21.9 | 21.7 | 21.3 | 20.9 |\n|PC_Y50_64,RU| 17.7 | 18.7 | 19.7 | 20.5 |    : |    : | 21.4 |    : |    : |    : |    : |    : |\n|PC_Y50_64,SE| 19.6 | 19.4 | 19.1 | 18.8 | 18.5 | 18.3 | 18.1 | 18.1 | 18.1 | 18.1 | 18.1 | 18.1 |\n|PC_Y50_64,SI|19.9 b| 20.0 | 20.3 | 20.9 | 21.2 | 21.4 | 21.5 | 21.6 | 21.7 | 21.8 | 21.8 | 21.6 |\n|PC_Y50_64,SK| 18.9 | 19.3 | 19.6 | 19.9 | 20.2 | 20.3 | 20.3 | 20.4 | 20.4 | 20.2 | 19.9 | 19.7 |\n|PC_Y50_64,SM|    : |    : |    : |    : | 19.6 | 20.0 |    : |    : |    : |    : | 22.9 |    : |\n|PC_Y50_64,TR| 11.9 | 12.2 | 12.4 | 12.8 | 13.1 | 13.5 | 13.8 | 14.1 | 14.5 | 14.8 | 14.9 | 15.0 |\n|PC_Y50_64,UA| 17.8 | 18.5 | 19.1 | 19.9 | 20.4 | 20.7 | 20.9 | 20.8 | 20.7 | 20.6 | 20.6 | 20.6 |\n|PC_Y50_64,UK| 18.0 | 18.0 | 18.1 | 18.2 | 18.2 | 18.1 | 18.2 | 18.4 | 18.5 | 18.7 | 18.9 | 19.1 |\n|PC_Y50_64,XK|    : |    : |    : |    : |    : |    : |    : |    : | 12.2 | 13.5 | 13.5 | 14.1 |\n|PC_Y65_79,AD|  8.2 |  8.3 |  8.7 |  8.6 |  8.6 |  8.6 |    : |    : |    : |    : |    : | 10.2 |\n|PC_Y65_79,AL|  8.4 |  8.7 |  9.0 |  9.1 |  9.3 |  9.6 |  9.9 | 10.2 | 10.5 | 10.7 | 11.0 | 11.4 |\n+------------+------+------+------+------+------+------+------+------+------+------+------+------+\nonly showing top 15 rows\n\n"
     ]
    }
   ],
   "source": [
    "df = df.withColumnRenamed(\"indic_de,geo\\\\time\", \"geo_time\") \\\n",
    "               .withColumnRenamed(\"2008 \", \"y_2008\") \\\n",
    "               .withColumnRenamed(\"2009 \", \"y_2009\") \\\n",
    "               .withColumnRenamed(\"2010 \", \"y_2010\") \\\n",
    "               .withColumnRenamed(\"2011 \", \"y_2011\") \\\n",
    "               .withColumnRenamed(\"2012 \", \"y_2012\") \\\n",
    "               .withColumnRenamed(\"2013 \", \"y_2013\") \\\n",
    "               .withColumnRenamed(\"2014 \", \"y_2014\") \\\n",
    "               .withColumnRenamed(\"2015 \", \"y_2015\") \\\n",
    "               .withColumnRenamed(\"2016 \", \"y_2016\") \\\n",
    "               .withColumnRenamed(\"2017 \", \"y_2017\") \\\n",
    "               .withColumnRenamed(\"2018 \", \"y_2018\") \\\n",
    "               .withColumnRenamed(\"2019 \", \"y_2019\")\n",
    "\n",
    "df.show(15)"
   ]
  },
  {
   "cell_type": "code",
   "execution_count": 0,
   "metadata": {
    "application/vnd.databricks.v1+cell": {
     "cellMetadata": {
      "byteLimit": 2048000,
      "rowLimit": 10000
     },
     "inputWidgets": {},
     "nuid": "999bbecd-508a-441c-b239-91800d4d96bd",
     "showTitle": false,
     "tableResultSettingsMap": {},
     "title": ""
    }
   },
   "outputs": [
    {
     "output_type": "execute_result",
     "data": {
      "text/plain": [
       "['geo_time',\n",
       " 'y_2008',\n",
       " 'y_2009',\n",
       " 'y_2010',\n",
       " 'y_2011',\n",
       " 'y_2012',\n",
       " 'y_2013',\n",
       " 'y_2014',\n",
       " 'y_2015',\n",
       " 'y_2016',\n",
       " 'y_2017',\n",
       " 'y_2018',\n",
       " 'y_2019']"
      ]
     },
     "execution_count": 138,
     "metadata": {},
     "output_type": "execute_result"
    }
   ],
   "source": [
    "df.columns"
   ]
  },
  {
   "cell_type": "markdown",
   "metadata": {
    "application/vnd.databricks.v1+cell": {
     "cellMetadata": {},
     "inputWidgets": {},
     "nuid": "22d3ed1b-bb89-42ab-ac5d-4c193f215acd",
     "showTitle": false,
     "tableResultSettingsMap": {},
     "title": ""
    }
   },
   "source": [
    "## Splitting columns"
   ]
  },
  {
   "cell_type": "code",
   "execution_count": 0,
   "metadata": {
    "application/vnd.databricks.v1+cell": {
     "cellMetadata": {
      "byteLimit": 2048000,
      "rowLimit": 10000
     },
     "inputWidgets": {},
     "nuid": "2b1e6c83-9e1e-4b1c-a15a-e3284b4a9b01",
     "showTitle": false,
     "tableResultSettingsMap": {},
     "title": ""
    }
   },
   "outputs": [
    {
     "output_type": "stream",
     "name": "stdout",
     "output_type": "stream",
     "text": [
      "+------------+------+------+------+------+------+------+------+------+------+------+------+------+---------+------------+\n|    geo_time|y_2008|y_2009|y_2010|y_2011|y_2012|y_2013|y_2014|y_2015|y_2016|y_2017|y_2018|y_2019|age_range|country_code|\n+------------+------+------+------+------+------+------+------+------+------+------+------+------+---------+------------+\n|PC_Y50_64,PL| 19.6 | 20.2 |21.0 b| 21.4 | 21.5 | 21.4 | 21.3 | 21.1 | 20.8 | 20.4 | 20.1 | 19.7 |PC_Y50_64|          PL|\n|PC_Y50_64,PT| 18.3 | 18.6 | 18.8 | 19.1 | 19.4 | 19.8 | 20.0 | 20.2 | 20.4 | 20.6 | 20.7 | 20.9 |PC_Y50_64|          PT|\n|PC_Y50_64,RO| 18.9 | 20.0 | 20.0 | 20.1 | 20.0 | 20.0 |19.8 e| 19.3 | 18.9 | 18.6 | 19.1 | 19.7 |PC_Y50_64|          RO|\n|PC_Y50_64,RS| 20.7 | 21.0 | 21.4 |22.7 b| 22.8 | 22.8 | 22.6 | 22.3 | 21.9 | 21.7 | 21.3 | 20.9 |PC_Y50_64|          RS|\n|PC_Y50_64,RU| 17.7 | 18.7 | 19.7 | 20.5 |    : |    : | 21.4 |    : |    : |    : |    : |    : |PC_Y50_64|          RU|\n|PC_Y50_64,SE| 19.6 | 19.4 | 19.1 | 18.8 | 18.5 | 18.3 | 18.1 | 18.1 | 18.1 | 18.1 | 18.1 | 18.1 |PC_Y50_64|          SE|\n|PC_Y50_64,SI|19.9 b| 20.0 | 20.3 | 20.9 | 21.2 | 21.4 | 21.5 | 21.6 | 21.7 | 21.8 | 21.8 | 21.6 |PC_Y50_64|          SI|\n|PC_Y50_64,SK| 18.9 | 19.3 | 19.6 | 19.9 | 20.2 | 20.3 | 20.3 | 20.4 | 20.4 | 20.2 | 19.9 | 19.7 |PC_Y50_64|          SK|\n|PC_Y50_64,SM|    : |    : |    : |    : | 19.6 | 20.0 |    : |    : |    : |    : | 22.9 |    : |PC_Y50_64|          SM|\n|PC_Y50_64,TR| 11.9 | 12.2 | 12.4 | 12.8 | 13.1 | 13.5 | 13.8 | 14.1 | 14.5 | 14.8 | 14.9 | 15.0 |PC_Y50_64|          TR|\n|PC_Y50_64,UA| 17.8 | 18.5 | 19.1 | 19.9 | 20.4 | 20.7 | 20.9 | 20.8 | 20.7 | 20.6 | 20.6 | 20.6 |PC_Y50_64|          UA|\n|PC_Y50_64,UK| 18.0 | 18.0 | 18.1 | 18.2 | 18.2 | 18.1 | 18.2 | 18.4 | 18.5 | 18.7 | 18.9 | 19.1 |PC_Y50_64|          UK|\n|PC_Y50_64,XK|    : |    : |    : |    : |    : |    : |    : |    : | 12.2 | 13.5 | 13.5 | 14.1 |PC_Y50_64|          XK|\n|PC_Y65_79,AD|  8.2 |  8.3 |  8.7 |  8.6 |  8.6 |  8.6 |    : |    : |    : |    : |    : | 10.2 |PC_Y65_79|          AD|\n|PC_Y65_79,AL|  8.4 |  8.7 |  9.0 |  9.1 |  9.3 |  9.6 |  9.9 | 10.2 | 10.5 | 10.7 | 11.0 | 11.4 |PC_Y65_79|          AL|\n+------------+------+------+------+------+------+------+------+------+------+------+------+------+---------+------------+\nonly showing top 15 rows\n\n"
     ]
    }
   ],
   "source": [
    "from pyspark.sql.functions import *\n",
    "\n",
    "df = df.withColumn(\"age_range\", split(df[\"geo_time\"], \",\").getItem(0)) \\\n",
    "                     .withColumn(\"country_code\", split(df[\"geo_time\"], \",\").getItem(1))\n",
    "\n",
    "df.show(15)"
   ]
  },
  {
   "cell_type": "markdown",
   "metadata": {
    "application/vnd.databricks.v1+cell": {
     "cellMetadata": {},
     "inputWidgets": {},
     "nuid": "20f902dc-cc8b-4bca-af09-5771c707dff4",
     "showTitle": false,
     "tableResultSettingsMap": {},
     "title": ""
    }
   },
   "source": [
    "## Formatting Field Values"
   ]
  },
  {
   "cell_type": "code",
   "execution_count": 0,
   "metadata": {
    "application/vnd.databricks.v1+cell": {
     "cellMetadata": {
      "byteLimit": 2048000,
      "rowLimit": 10000
     },
     "inputWidgets": {},
     "nuid": "4883be0a-4b6c-4031-9093-30ee9951e0c0",
     "showTitle": false,
     "tableResultSettingsMap": {},
     "title": ""
    }
   },
   "outputs": [
    {
     "output_type": "stream",
     "name": "stdout",
     "output_type": "stream",
     "text": [
      "+------------+------+------+------+------+------+------+------+------+------+------+------+------+---------+------------+\n|    geo_time|y_2008|y_2009|y_2010|y_2011|y_2012|y_2013|y_2014|y_2015|y_2016|y_2017|y_2018|y_2019|age_range|country_code|\n+------------+------+------+------+------+------+------+------+------+------+------+------+------+---------+------------+\n|PC_Y50_64,PL| 19.6 | 20.2 |21.0 b| 21.4 | 21.5 | 21.4 | 21.3 | 21.1 | 20.8 | 20.4 | 20.1 | 19.7 |   Y50_64|          PL|\n|PC_Y50_64,PT| 18.3 | 18.6 | 18.8 | 19.1 | 19.4 | 19.8 | 20.0 | 20.2 | 20.4 | 20.6 | 20.7 | 20.9 |   Y50_64|          PT|\n|PC_Y50_64,RO| 18.9 | 20.0 | 20.0 | 20.1 | 20.0 | 20.0 |19.8 e| 19.3 | 18.9 | 18.6 | 19.1 | 19.7 |   Y50_64|          RO|\n|PC_Y50_64,RS| 20.7 | 21.0 | 21.4 |22.7 b| 22.8 | 22.8 | 22.6 | 22.3 | 21.9 | 21.7 | 21.3 | 20.9 |   Y50_64|          RS|\n|PC_Y50_64,RU| 17.7 | 18.7 | 19.7 | 20.5 |    : |    : | 21.4 |    : |    : |    : |    : |    : |   Y50_64|          RU|\n|PC_Y50_64,SE| 19.6 | 19.4 | 19.1 | 18.8 | 18.5 | 18.3 | 18.1 | 18.1 | 18.1 | 18.1 | 18.1 | 18.1 |   Y50_64|          SE|\n|PC_Y50_64,SI|19.9 b| 20.0 | 20.3 | 20.9 | 21.2 | 21.4 | 21.5 | 21.6 | 21.7 | 21.8 | 21.8 | 21.6 |   Y50_64|          SI|\n|PC_Y50_64,SK| 18.9 | 19.3 | 19.6 | 19.9 | 20.2 | 20.3 | 20.3 | 20.4 | 20.4 | 20.2 | 19.9 | 19.7 |   Y50_64|          SK|\n|PC_Y50_64,SM|    : |    : |    : |    : | 19.6 | 20.0 |    : |    : |    : |    : | 22.9 |    : |   Y50_64|          SM|\n|PC_Y50_64,TR| 11.9 | 12.2 | 12.4 | 12.8 | 13.1 | 13.5 | 13.8 | 14.1 | 14.5 | 14.8 | 14.9 | 15.0 |   Y50_64|          TR|\n|PC_Y50_64,UA| 17.8 | 18.5 | 19.1 | 19.9 | 20.4 | 20.7 | 20.9 | 20.8 | 20.7 | 20.6 | 20.6 | 20.6 |   Y50_64|          UA|\n|PC_Y50_64,UK| 18.0 | 18.0 | 18.1 | 18.2 | 18.2 | 18.1 | 18.2 | 18.4 | 18.5 | 18.7 | 18.9 | 19.1 |   Y50_64|          UK|\n|PC_Y50_64,XK|    : |    : |    : |    : |    : |    : |    : |    : | 12.2 | 13.5 | 13.5 | 14.1 |   Y50_64|          XK|\n|PC_Y65_79,AD|  8.2 |  8.3 |  8.7 |  8.6 |  8.6 |  8.6 |    : |    : |    : |    : |    : | 10.2 |   Y65_79|          AD|\n|PC_Y65_79,AL|  8.4 |  8.7 |  9.0 |  9.1 |  9.3 |  9.6 |  9.9 | 10.2 | 10.5 | 10.7 | 11.0 | 11.4 |   Y65_79|          AL|\n+------------+------+------+------+------+------+------+------+------+------+------+------+------+---------+------------+\nonly showing top 15 rows\n\n"
     ]
    }
   ],
   "source": [
    "df = df.withColumn(\"age_range\", regexp_replace(\"age_range\", \"^PC_\", \"\"))\n",
    "df.show(15)"
   ]
  },
  {
   "cell_type": "code",
   "execution_count": 0,
   "metadata": {
    "application/vnd.databricks.v1+cell": {
     "cellMetadata": {
      "byteLimit": 2048000,
      "rowLimit": 10000
     },
     "inputWidgets": {},
     "nuid": "50af6f15-467a-44ad-940c-4d3edc26d505",
     "showTitle": false,
     "tableResultSettingsMap": {},
     "title": ""
    }
   },
   "outputs": [
    {
     "output_type": "stream",
     "name": "stdout",
     "output_type": "stream",
     "text": [
      "+---------+\n|age_range|\n+---------+\n|   Y65_79|\n|   Y50_64|\n|  Y80_MAX|\n|   Y25_49|\n|   Y15_24|\n|    Y0_14|\n+---------+\n\n"
     ]
    }
   ],
   "source": [
    "df.select(\"age_range\").distinct().show()"
   ]
  },
  {
   "cell_type": "code",
   "execution_count": 0,
   "metadata": {
    "application/vnd.databricks.v1+cell": {
     "cellMetadata": {
      "byteLimit": 2048000,
      "rowLimit": 10000
     },
     "inputWidgets": {},
     "nuid": "81d74059-96e8-44ad-b380-5e3d6e028425",
     "showTitle": false,
     "tableResultSettingsMap": {},
     "title": ""
    }
   },
   "outputs": [
    {
     "output_type": "stream",
     "name": "stdout",
     "output_type": "stream",
     "text": [
      "+------------+\n|country_code|\n+------------+\n|          LT|\n|          AZ|\n|          FI|\n|          UA|\n|          RO|\n|          NL|\n|          PL|\n|          AM|\n|          MK|\n|          EE|\n|          SM|\n|          AT|\n|          RU|\n|          AD|\n|          HR|\n|          LI|\n|          CZ|\n|          PT|\n|   EU27_2007|\n|          MT|\n+------------+\nonly showing top 20 rows\n\n"
     ]
    }
   ],
   "source": [
    "df.select(\"country_code\").distinct().show()"
   ]
  },
  {
   "cell_type": "markdown",
   "metadata": {
    "application/vnd.databricks.v1+cell": {
     "cellMetadata": {},
     "inputWidgets": {},
     "nuid": "16bc587a-6cca-41ab-9438-2896a82b7180",
     "showTitle": false,
     "tableResultSettingsMap": {},
     "title": ""
    }
   },
   "source": [
    "## Filtering Records"
   ]
  },
  {
   "cell_type": "code",
   "execution_count": 0,
   "metadata": {
    "application/vnd.databricks.v1+cell": {
     "cellMetadata": {
      "byteLimit": 2048000,
      "rowLimit": 10000
     },
     "inputWidgets": {},
     "nuid": "cb6888f5-9d1a-4191-a2f5-ec1e8f3cc04e",
     "showTitle": false,
     "tableResultSettingsMap": {},
     "title": ""
    }
   },
   "outputs": [
    {
     "output_type": "stream",
     "name": "stdout",
     "output_type": "stream",
     "text": [
      "+------------+------+------+------+------+------+------+------+------+------+------+------+------+---------+------------+\n|    geo_time|y_2008|y_2009|y_2010|y_2011|y_2012|y_2013|y_2014|y_2015|y_2016|y_2017|y_2018|y_2019|age_range|country_code|\n+------------+------+------+------+------+------+------+------+------+------+------+------+------+---------+------------+\n|PC_Y50_64,PL| 19.6 | 20.2 |21.0 b| 21.4 | 21.5 | 21.4 | 21.3 | 21.1 | 20.8 | 20.4 | 20.1 | 19.7 |   Y50_64|          PL|\n|PC_Y50_64,PT| 18.3 | 18.6 | 18.8 | 19.1 | 19.4 | 19.8 | 20.0 | 20.2 | 20.4 | 20.6 | 20.7 | 20.9 |   Y50_64|          PT|\n|PC_Y50_64,RO| 18.9 | 20.0 | 20.0 | 20.1 | 20.0 | 20.0 |19.8 e| 19.3 | 18.9 | 18.6 | 19.1 | 19.7 |   Y50_64|          RO|\n|PC_Y50_64,RS| 20.7 | 21.0 | 21.4 |22.7 b| 22.8 | 22.8 | 22.6 | 22.3 | 21.9 | 21.7 | 21.3 | 20.9 |   Y50_64|          RS|\n|PC_Y50_64,RU| 17.7 | 18.7 | 19.7 | 20.5 |    : |    : | 21.4 |    : |    : |    : |    : |    : |   Y50_64|          RU|\n|PC_Y50_64,SE| 19.6 | 19.4 | 19.1 | 18.8 | 18.5 | 18.3 | 18.1 | 18.1 | 18.1 | 18.1 | 18.1 | 18.1 |   Y50_64|          SE|\n|PC_Y50_64,SI|19.9 b| 20.0 | 20.3 | 20.9 | 21.2 | 21.4 | 21.5 | 21.6 | 21.7 | 21.8 | 21.8 | 21.6 |   Y50_64|          SI|\n|PC_Y50_64,SK| 18.9 | 19.3 | 19.6 | 19.9 | 20.2 | 20.3 | 20.3 | 20.4 | 20.4 | 20.2 | 19.9 | 19.7 |   Y50_64|          SK|\n|PC_Y50_64,SM|    : |    : |    : |    : | 19.6 | 20.0 |    : |    : |    : |    : | 22.9 |    : |   Y50_64|          SM|\n|PC_Y50_64,TR| 11.9 | 12.2 | 12.4 | 12.8 | 13.1 | 13.5 | 13.8 | 14.1 | 14.5 | 14.8 | 14.9 | 15.0 |   Y50_64|          TR|\n|PC_Y50_64,UA| 17.8 | 18.5 | 19.1 | 19.9 | 20.4 | 20.7 | 20.9 | 20.8 | 20.7 | 20.6 | 20.6 | 20.6 |   Y50_64|          UA|\n|PC_Y50_64,UK| 18.0 | 18.0 | 18.1 | 18.2 | 18.2 | 18.1 | 18.2 | 18.4 | 18.5 | 18.7 | 18.9 | 19.1 |   Y50_64|          UK|\n|PC_Y50_64,XK|    : |    : |    : |    : |    : |    : |    : |    : | 12.2 | 13.5 | 13.5 | 14.1 |   Y50_64|          XK|\n|PC_Y65_79,AD|  8.2 |  8.3 |  8.7 |  8.6 |  8.6 |  8.6 |    : |    : |    : |    : |    : | 10.2 |   Y65_79|          AD|\n|PC_Y65_79,AL|  8.4 |  8.7 |  9.0 |  9.1 |  9.3 |  9.6 |  9.9 | 10.2 | 10.5 | 10.7 | 11.0 | 11.4 |   Y65_79|          AL|\n+------------+------+------+------+------+------+------+------+------+------+------+------+------+---------+------------+\nonly showing top 15 rows\n\n"
     ]
    }
   ],
   "source": [
    "df = df.filter(length(col(\"country_code\")) == 2)\n",
    "df.show(15)"
   ]
  },
  {
   "cell_type": "code",
   "execution_count": 0,
   "metadata": {
    "application/vnd.databricks.v1+cell": {
     "cellMetadata": {
      "byteLimit": 2048000,
      "rowLimit": 10000
     },
     "inputWidgets": {},
     "nuid": "4fbdf48b-838c-4941-b8f1-19721ef35f90",
     "showTitle": false,
     "tableResultSettingsMap": {},
     "title": ""
    }
   },
   "outputs": [
    {
     "output_type": "stream",
     "name": "stdout",
     "output_type": "stream",
     "text": [
      "+------------+\n|country_code|\n+------------+\n|          LT|\n|          AZ|\n|          FI|\n|          UA|\n|          RO|\n|          NL|\n|          PL|\n|          AM|\n|          MK|\n|          EE|\n|          SM|\n|          AT|\n|          RU|\n|          AD|\n|          HR|\n|          LI|\n|          CZ|\n|          PT|\n|          MT|\n|          BY|\n+------------+\nonly showing top 20 rows\n\n"
     ]
    }
   ],
   "source": [
    "df.select(\"country_code\").distinct().show()"
   ]
  },
  {
   "cell_type": "code",
   "execution_count": 0,
   "metadata": {
    "application/vnd.databricks.v1+cell": {
     "cellMetadata": {
      "byteLimit": 2048000,
      "rowLimit": 10000
     },
     "inputWidgets": {},
     "nuid": "54a222ed-3021-450c-95fd-2873b8513a6b",
     "showTitle": false,
     "tableResultSettingsMap": {},
     "title": ""
    }
   },
   "outputs": [
    {
     "output_type": "stream",
     "name": "stdout",
     "output_type": "stream",
     "text": [
      "+------------+------+------+------+------+------+------+------+------+------+------+------+------+---------+------------+\n|    geo_time|y_2008|y_2009|y_2010|y_2011|y_2012|y_2013|y_2014|y_2015|y_2016|y_2017|y_2018|y_2019|age_range|country_code|\n+------------+------+------+------+------+------+------+------+------+------+------+------+------+---------+------------+\n|PC_Y50_64,PL| 19.6 | 20.2 |21.0 b| 21.4 | 21.5 | 21.4 | 21.3 | 21.1 | 20.8 | 20.4 | 20.1 | 19.7 |   Y50_64|          PL|\n|PC_Y50_64,PT| 18.3 | 18.6 | 18.8 | 19.1 | 19.4 | 19.8 | 20.0 | 20.2 | 20.4 | 20.6 | 20.7 | 20.9 |   Y50_64|          PT|\n|PC_Y50_64,RO| 18.9 | 20.0 | 20.0 | 20.1 | 20.0 | 20.0 |19.8 e| 19.3 | 18.9 | 18.6 | 19.1 | 19.7 |   Y50_64|          RO|\n|PC_Y50_64,RS| 20.7 | 21.0 | 21.4 |22.7 b| 22.8 | 22.8 | 22.6 | 22.3 | 21.9 | 21.7 | 21.3 | 20.9 |   Y50_64|          RS|\n|PC_Y50_64,RU| 17.7 | 18.7 | 19.7 | 20.5 |    : |    : | 21.4 |    : |    : |    : |    : |    : |   Y50_64|          RU|\n|PC_Y50_64,SE| 19.6 | 19.4 | 19.1 | 18.8 | 18.5 | 18.3 | 18.1 | 18.1 | 18.1 | 18.1 | 18.1 | 18.1 |   Y50_64|          SE|\n|PC_Y50_64,SI|19.9 b| 20.0 | 20.3 | 20.9 | 21.2 | 21.4 | 21.5 | 21.6 | 21.7 | 21.8 | 21.8 | 21.6 |   Y50_64|          SI|\n|PC_Y50_64,SK| 18.9 | 19.3 | 19.6 | 19.9 | 20.2 | 20.3 | 20.3 | 20.4 | 20.4 | 20.2 | 19.9 | 19.7 |   Y50_64|          SK|\n|PC_Y50_64,SM|    : |    : |    : |    : | 19.6 | 20.0 |    : |    : |    : |    : | 22.9 |    : |   Y50_64|          SM|\n|PC_Y50_64,TR| 11.9 | 12.2 | 12.4 | 12.8 | 13.1 | 13.5 | 13.8 | 14.1 | 14.5 | 14.8 | 14.9 | 15.0 |   Y50_64|          TR|\n|PC_Y50_64,UA| 17.8 | 18.5 | 19.1 | 19.9 | 20.4 | 20.7 | 20.9 | 20.8 | 20.7 | 20.6 | 20.6 | 20.6 |   Y50_64|          UA|\n|PC_Y50_64,UK| 18.0 | 18.0 | 18.1 | 18.2 | 18.2 | 18.1 | 18.2 | 18.4 | 18.5 | 18.7 | 18.9 | 19.1 |   Y50_64|          UK|\n|PC_Y50_64,XK|    : |    : |    : |    : |    : |    : |    : |    : | 12.2 | 13.5 | 13.5 | 14.1 |   Y50_64|          XK|\n|PC_Y65_79,AD|  8.2 |  8.3 |  8.7 |  8.6 |  8.6 |  8.6 |    : |    : |    : |    : |    : | 10.2 |   Y65_79|          AD|\n|PC_Y65_79,AL|  8.4 |  8.7 |  9.0 |  9.1 |  9.3 |  9.6 |  9.9 | 10.2 | 10.5 | 10.7 | 11.0 | 11.4 |   Y65_79|          AL|\n+------------+------+------+------+------+------+------+------+------+------+------+------+------+---------+------------+\nonly showing top 15 rows\n\n"
     ]
    }
   ],
   "source": [
    "df.show(15)"
   ]
  },
  {
   "cell_type": "code",
   "execution_count": 0,
   "metadata": {
    "application/vnd.databricks.v1+cell": {
     "cellMetadata": {
      "byteLimit": 2048000,
      "rowLimit": 10000
     },
     "inputWidgets": {},
     "nuid": "fe10543b-6247-4628-9843-799a3c070665",
     "showTitle": false,
     "tableResultSettingsMap": {},
     "title": ""
    }
   },
   "outputs": [
    {
     "output_type": "execute_result",
     "data": {
      "text/plain": [
       "['geo_time',\n",
       " 'y_2008',\n",
       " 'y_2009',\n",
       " 'y_2010',\n",
       " 'y_2011',\n",
       " 'y_2012',\n",
       " 'y_2013',\n",
       " 'y_2014',\n",
       " 'y_2015',\n",
       " 'y_2016',\n",
       " 'y_2017',\n",
       " 'y_2018',\n",
       " 'y_2019',\n",
       " 'age_range',\n",
       " 'country_code']"
      ]
     },
     "execution_count": 146,
     "metadata": {},
     "output_type": "execute_result"
    }
   ],
   "source": [
    "df.columns"
   ]
  },
  {
   "cell_type": "markdown",
   "metadata": {
    "application/vnd.databricks.v1+cell": {
     "cellMetadata": {},
     "inputWidgets": {},
     "nuid": "31358c75-9c05-4fd8-b27c-00a18f317042",
     "showTitle": false,
     "tableResultSettingsMap": {},
     "title": ""
    }
   },
   "source": [
    "## Selecting and Aliasing Columns"
   ]
  },
  {
   "cell_type": "code",
   "execution_count": 0,
   "metadata": {
    "application/vnd.databricks.v1+cell": {
     "cellMetadata": {
      "byteLimit": 2048000,
      "rowLimit": 10000
     },
     "inputWidgets": {},
     "nuid": "455e8f3b-5120-4e85-84d9-d6f8ee079f8b",
     "showTitle": false,
     "tableResultSettingsMap": {},
     "title": ""
    }
   },
   "outputs": [
    {
     "output_type": "stream",
     "name": "stdout",
     "output_type": "stream",
     "text": [
      "+------------+---------+---------------+---------------+---------------+---------------+---------------+---------------+---------------+---------------+---------------+---------------+---------------+---------------+\n|country_code|age_group|percentage_2008|percentage_2009|percentage_2010|percentage_2011|percentage_2012|percentage_2013|percentage_2014|percentage_2015|percentage_2016|percentage_2017|percentage_2018|percentage_2019|\n+------------+---------+---------------+---------------+---------------+---------------+---------------+---------------+---------------+---------------+---------------+---------------+---------------+---------------+\n|          PL|   Y50_64|          19.6 |          20.2 |         21.0 b|          21.4 |          21.5 |          21.4 |          21.3 |          21.1 |          20.8 |          20.4 |          20.1 |          19.7 |\n|          PT|   Y50_64|          18.3 |          18.6 |          18.8 |          19.1 |          19.4 |          19.8 |          20.0 |          20.2 |          20.4 |          20.6 |          20.7 |          20.9 |\n|          RO|   Y50_64|          18.9 |          20.0 |          20.0 |          20.1 |          20.0 |          20.0 |         19.8 e|          19.3 |          18.9 |          18.6 |          19.1 |          19.7 |\n|          RS|   Y50_64|          20.7 |          21.0 |          21.4 |         22.7 b|          22.8 |          22.8 |          22.6 |          22.3 |          21.9 |          21.7 |          21.3 |          20.9 |\n|          RU|   Y50_64|          17.7 |          18.7 |          19.7 |          20.5 |             : |             : |          21.4 |             : |             : |             : |             : |             : |\n|          SE|   Y50_64|          19.6 |          19.4 |          19.1 |          18.8 |          18.5 |          18.3 |          18.1 |          18.1 |          18.1 |          18.1 |          18.1 |          18.1 |\n|          SI|   Y50_64|         19.9 b|          20.0 |          20.3 |          20.9 |          21.2 |          21.4 |          21.5 |          21.6 |          21.7 |          21.8 |          21.8 |          21.6 |\n|          SK|   Y50_64|          18.9 |          19.3 |          19.6 |          19.9 |          20.2 |          20.3 |          20.3 |          20.4 |          20.4 |          20.2 |          19.9 |          19.7 |\n|          SM|   Y50_64|             : |             : |             : |             : |          19.6 |          20.0 |             : |             : |             : |             : |          22.9 |             : |\n|          TR|   Y50_64|          11.9 |          12.2 |          12.4 |          12.8 |          13.1 |          13.5 |          13.8 |          14.1 |          14.5 |          14.8 |          14.9 |          15.0 |\n|          UA|   Y50_64|          17.8 |          18.5 |          19.1 |          19.9 |          20.4 |          20.7 |          20.9 |          20.8 |          20.7 |          20.6 |          20.6 |          20.6 |\n|          UK|   Y50_64|          18.0 |          18.0 |          18.1 |          18.2 |          18.2 |          18.1 |          18.2 |          18.4 |          18.5 |          18.7 |          18.9 |          19.1 |\n|          XK|   Y50_64|             : |             : |             : |             : |             : |             : |             : |             : |          12.2 |          13.5 |          13.5 |          14.1 |\n|          AD|   Y65_79|           8.2 |           8.3 |           8.7 |           8.6 |           8.6 |           8.6 |             : |             : |             : |             : |             : |          10.2 |\n|          AL|   Y65_79|           8.4 |           8.7 |           9.0 |           9.1 |           9.3 |           9.6 |           9.9 |          10.2 |          10.5 |          10.7 |          11.0 |          11.4 |\n+------------+---------+---------------+---------------+---------------+---------------+---------------+---------------+---------------+---------------+---------------+---------------+---------------+---------------+\nonly showing top 15 rows\n\n"
     ]
    }
   ],
   "source": [
    "df = df.select(\"country_code\", col(\"age_range\").alias(\"age_group\"),\n",
    "               col(\"y_2008\").alias(\"percentage_2008\"),\n",
    "               col(\"y_2009\").alias(\"percentage_2009\"),\n",
    "               col(\"y_2010\").alias(\"percentage_2010\"),\n",
    "               col(\"y_2011\").alias(\"percentage_2011\"),\n",
    "               col(\"y_2012\").alias(\"percentage_2012\"),\n",
    "               col(\"y_2013\").alias(\"percentage_2013\"),\n",
    "               col(\"y_2014\").alias(\"percentage_2014\"),\n",
    "               col(\"y_2015\").alias(\"percentage_2015\"),\n",
    "               col(\"y_2016\").alias(\"percentage_2016\"),\n",
    "               col(\"y_2017\").alias(\"percentage_2017\"),\n",
    "               col(\"y_2018\").alias(\"percentage_2018\"),\n",
    "               col(\"y_2019\").alias(\"percentage_2019\"),)\n",
    "\n",
    "df.show(15)"
   ]
  },
  {
   "cell_type": "markdown",
   "metadata": {
    "application/vnd.databricks.v1+cell": {
     "cellMetadata": {},
     "inputWidgets": {},
     "nuid": "60b31012-8bfe-4b7c-9221-29b49704a6a6",
     "showTitle": false,
     "tableResultSettingsMap": {},
     "title": ""
    }
   },
   "source": [
    "## Casting and Replacing Values"
   ]
  },
  {
   "cell_type": "code",
   "execution_count": 0,
   "metadata": {
    "application/vnd.databricks.v1+cell": {
     "cellMetadata": {
      "byteLimit": 2048000,
      "rowLimit": 10000
     },
     "inputWidgets": {},
     "nuid": "0db31d27-ef28-4c3c-8d38-47d9ab3d9f6e",
     "showTitle": false,
     "tableResultSettingsMap": {},
     "title": ""
    }
   },
   "outputs": [
    {
     "output_type": "stream",
     "name": "stdout",
     "output_type": "stream",
     "text": [
      "+------------+---------+---------------+---------------+---------------+---------------+---------------+---------------+---------------+---------------+---------------+---------------+---------------+---------------+\n|country_code|age_group|percentage_2008|percentage_2009|percentage_2010|percentage_2011|percentage_2012|percentage_2013|percentage_2014|percentage_2015|percentage_2016|percentage_2017|percentage_2018|percentage_2019|\n+------------+---------+---------------+---------------+---------------+---------------+---------------+---------------+---------------+---------------+---------------+---------------+---------------+---------------+\n|          PL|   Y50_64|          19.60|          20.20|          21.00|          21.40|          21.50|          21.40|          21.30|          21.10|          20.80|          20.40|          20.10|          19.70|\n|          PT|   Y50_64|          18.30|          18.60|          18.80|          19.10|          19.40|          19.80|          20.00|          20.20|          20.40|          20.60|          20.70|          20.90|\n|          RO|   Y50_64|          18.90|          20.00|          20.00|          20.10|          20.00|          20.00|          19.80|          19.30|          18.90|          18.60|          19.10|          19.70|\n|          RS|   Y50_64|          20.70|          21.00|          21.40|          22.70|          22.80|          22.80|          22.60|          22.30|          21.90|          21.70|          21.30|          20.90|\n|          RU|   Y50_64|          17.70|          18.70|          19.70|          20.50|           NULL|           NULL|          21.40|           NULL|           NULL|           NULL|           NULL|           NULL|\n|          SE|   Y50_64|          19.60|          19.40|          19.10|          18.80|          18.50|          18.30|          18.10|          18.10|          18.10|          18.10|          18.10|          18.10|\n|          SI|   Y50_64|          19.90|          20.00|          20.30|          20.90|          21.20|          21.40|          21.50|          21.60|          21.70|          21.80|          21.80|          21.60|\n|          SK|   Y50_64|          18.90|          19.30|          19.60|          19.90|          20.20|          20.30|          20.30|          20.40|          20.40|          20.20|          19.90|          19.70|\n|          SM|   Y50_64|           NULL|           NULL|           NULL|           NULL|          19.60|          20.00|           NULL|           NULL|           NULL|           NULL|          22.90|           NULL|\n|          TR|   Y50_64|          11.90|          12.20|          12.40|          12.80|          13.10|          13.50|          13.80|          14.10|          14.50|          14.80|          14.90|          15.00|\n|          UA|   Y50_64|          17.80|          18.50|          19.10|          19.90|          20.40|          20.70|          20.90|          20.80|          20.70|          20.60|          20.60|          20.60|\n|          UK|   Y50_64|          18.00|          18.00|          18.10|          18.20|          18.20|          18.10|          18.20|          18.40|          18.50|          18.70|          18.90|          19.10|\n|          XK|   Y50_64|           NULL|           NULL|           NULL|           NULL|           NULL|           NULL|           NULL|           NULL|          12.20|          13.50|          13.50|          14.10|\n|          AD|   Y65_79|           8.20|           8.30|           8.70|           8.60|           8.60|           8.60|           NULL|           NULL|           NULL|           NULL|           NULL|          10.20|\n|          AL|   Y65_79|           8.40|           8.70|           9.00|           9.10|           9.30|           9.60|           9.90|          10.20|          10.50|          10.70|          11.00|          11.40|\n+------------+---------+---------------+---------------+---------------+---------------+---------------+---------------+---------------+---------------+---------------+---------------+---------------+---------------+\nonly showing top 15 rows\n\n"
     ]
    }
   ],
   "source": [
    "df.createOrReplaceTempView(\"population_by_age\")\n",
    "\n",
    "df = spark.sql(\"SELECT country_code, age_group, \\\n",
    "               CAST(REGEXP_REPLACE(percentage_2008, '[a-z]', '') AS DECIMAL(4,2)) AS percentage_2008, \\\n",
    "               CAST(REGEXP_REPLACE(percentage_2009, '[a-z]', '') AS DECIMAL(4,2)) AS percentage_2009, \\\n",
    "               CAST(REGEXP_REPLACE(percentage_2010, '[a-z]', '') AS DECIMAL(4,2)) AS percentage_2010, \\\n",
    "               CAST(REGEXP_REPLACE(percentage_2011, '[a-z]', '') AS DECIMAL(4,2)) AS percentage_2011, \\\n",
    "               CAST(REGEXP_REPLACE(percentage_2012, '[a-z]', '') AS DECIMAL(4,2)) AS percentage_2012, \\\n",
    "               CAST(REGEXP_REPLACE(percentage_2013, '[a-z]', '') AS DECIMAL(4,2)) AS percentage_2013, \\\n",
    "               CAST(REGEXP_REPLACE(percentage_2014, '[a-z]', '') AS DECIMAL(4,2)) AS percentage_2014, \\\n",
    "               CAST(REGEXP_REPLACE(percentage_2015, '[a-z]', '') AS DECIMAL(4,2)) AS percentage_2015, \\\n",
    "               CAST(REGEXP_REPLACE(percentage_2016, '[a-z]', '') AS DECIMAL(4,2)) AS percentage_2016, \\\n",
    "               CAST(REGEXP_REPLACE(percentage_2017, '[a-z]', '') AS DECIMAL(4,2)) AS percentage_2017, \\\n",
    "               CAST(REGEXP_REPLACE(percentage_2018, '[a-z]', '') AS DECIMAL(4,2)) AS percentage_2018, \\\n",
    "               CAST(REGEXP_REPLACE(percentage_2019, '[a-z]', '') AS DECIMAL(4,2)) AS percentage_2019 \\\n",
    "               FROM population_by_age \\\n",
    "               WHERE LEN(country_code) == 2\")\n",
    "\n",
    "df.show(15)"
   ]
  },
  {
   "cell_type": "code",
   "execution_count": 0,
   "metadata": {
    "application/vnd.databricks.v1+cell": {
     "cellMetadata": {
      "byteLimit": 2048000,
      "rowLimit": 10000
     },
     "inputWidgets": {},
     "nuid": "f1073553-788a-4221-a431-75d055d0d354",
     "showTitle": false,
     "tableResultSettingsMap": {},
     "title": ""
    }
   },
   "outputs": [
    {
     "output_type": "stream",
     "name": "stdout",
     "output_type": "stream",
     "text": [
      "root\n |-- country_code: string (nullable = true)\n |-- age_group: string (nullable = true)\n |-- percentage_2008: decimal(4,2) (nullable = true)\n |-- percentage_2009: decimal(4,2) (nullable = true)\n |-- percentage_2010: decimal(4,2) (nullable = true)\n |-- percentage_2011: decimal(4,2) (nullable = true)\n |-- percentage_2012: decimal(4,2) (nullable = true)\n |-- percentage_2013: decimal(4,2) (nullable = true)\n |-- percentage_2014: decimal(4,2) (nullable = true)\n |-- percentage_2015: decimal(4,2) (nullable = true)\n |-- percentage_2016: decimal(4,2) (nullable = true)\n |-- percentage_2017: decimal(4,2) (nullable = true)\n |-- percentage_2018: decimal(4,2) (nullable = true)\n |-- percentage_2019: decimal(4,2) (nullable = true)\n\n"
     ]
    }
   ],
   "source": [
    "df.printSchema()"
   ]
  },
  {
   "cell_type": "markdown",
   "metadata": {
    "application/vnd.databricks.v1+cell": {
     "cellMetadata": {},
     "inputWidgets": {},
     "nuid": "09a6843c-2c20-4b07-9adb-2c570bf3ce8d",
     "showTitle": false,
     "tableResultSettingsMap": {},
     "title": ""
    }
   },
   "source": [
    "# Loading: Writing Partitioned Data Incrementally"
   ]
  },
  {
   "cell_type": "code",
   "execution_count": 0,
   "metadata": {
    "application/vnd.databricks.v1+cell": {
     "cellMetadata": {
      "byteLimit": 2048000,
      "rowLimit": 10000
     },
     "inputWidgets": {},
     "nuid": "35a1ddc0-b0df-4d53-be96-87e9797339ac",
     "showTitle": false,
     "tableResultSettingsMap": {},
     "title": ""
    }
   },
   "outputs": [],
   "source": [
    "delta_file_location = \"delta/population_by_age\""
   ]
  },
  {
   "cell_type": "code",
   "execution_count": 0,
   "metadata": {
    "application/vnd.databricks.v1+cell": {
     "cellMetadata": {
      "byteLimit": 2048000,
      "rowLimit": 10000
     },
     "inputWidgets": {},
     "nuid": "aacb499b-46b6-4809-911d-e645b97f1160",
     "showTitle": false,
     "tableResultSettingsMap": {},
     "title": ""
    }
   },
   "outputs": [],
   "source": [
    "from delta.tables import DeltaTable\n",
    "\n",
    "delta_table_path = f\"{mount_point_processed}/{delta_file_location}\"\n",
    "\n",
    "if DeltaTable.isDeltaTable(spark, delta_table_path):\n",
    "    existing_data = DeltaTable.forPath(spark, delta_table_path)\n",
    "    \n",
    "    (existing_data.alias(\"existing\") \\\n",
    "        .merge(df.alias(\"new\"), \"existing.country_code = new.country_code AND existing.age_group = new.age_group\") \\\n",
    "        .whenMatchedUpdateAll() \\\n",
    "        .whenNotMatchedInsertAll() \\\n",
    "        .execute())\n",
    "else:\n",
    "    df.write.format(\"delta\").mode(\"overwrite\").partitionBy(\"country_code\", \"age_group\").save(delta_table_path)"
   ]
  },
  {
   "cell_type": "code",
   "execution_count": 0,
   "metadata": {
    "application/vnd.databricks.v1+cell": {
     "cellMetadata": {
      "byteLimit": 2048000,
      "rowLimit": 10000
     },
     "inputWidgets": {},
     "nuid": "db4a7501-995f-46e2-863e-c8bd36f27d1e",
     "showTitle": false,
     "tableResultSettingsMap": {},
     "title": ""
    }
   },
   "outputs": [
    {
     "output_type": "stream",
     "name": "stdout",
     "output_type": "stream",
     "text": [
      "+------------+---------+---------------+---------------+---------------+---------------+---------------+---------------+---------------+---------------+---------------+---------------+---------------+---------------+\n|country_code|age_group|percentage_2008|percentage_2009|percentage_2010|percentage_2011|percentage_2012|percentage_2013|percentage_2014|percentage_2015|percentage_2016|percentage_2017|percentage_2018|percentage_2019|\n+------------+---------+---------------+---------------+---------------+---------------+---------------+---------------+---------------+---------------+---------------+---------------+---------------+---------------+\n|          BE|    Y0_14|          16.90|          16.90|          16.90|          17.00|          17.00|          17.00|          17.00|          17.00|          17.00|          17.00|          17.00|          16.90|\n|          CY|   Y50_64|          16.90|          17.20|          17.40|          17.60|          17.70|          17.90|          18.10|          18.00|          18.00|          18.00|          18.00|          17.90|\n|          SK|   Y15_24|          15.20|          14.90|          14.50|          14.00|          13.50|          13.00|          12.60|          12.20|          11.70|          11.20|          10.80|          10.40|\n|          BG|  Y80_MAX|           3.70|           3.80|           3.90|           4.00|           4.10|           4.30|           4.40|           4.60|           4.70|           4.80|           4.80|           4.80|\n|          HR|    Y0_14|          15.50|          15.40|          15.40|          15.30|          15.10|          14.90|          14.80|          14.70|          14.60|          14.50|          14.50|          14.40|\n|          MK|   Y65_79|           9.70|           9.80|           9.80|           9.80|           9.80|          10.00|          10.20|          10.40|          10.70|          10.80|          11.20|          11.50|\n|          DE|   Y15_24|          11.60|          11.40|          11.30|          11.10|          11.00|          10.90|          10.80|          10.70|          10.70|          10.60|          10.50|          10.40|\n|          EL|   Y25_49|          37.20|          37.10|          37.00|          36.70|          36.30|          35.90|          35.50|          35.10|          34.70|          34.20|          33.70|          33.10|\n|          FI|   Y65_79|          12.20|          12.30|          12.40|          12.70|          13.30|          13.80|          14.40|          14.90|          15.30|          15.70|          16.00|          16.30|\n|          CH|   Y25_49|          37.20|          37.10|          37.00|          36.80|          36.70|          36.40|          36.20|          35.90|          35.70|          35.40|          35.20|          35.00|\n|          IT|   Y15_24|          10.10|          10.10|          10.00|          10.00|          10.00|           9.90|           9.80|           9.80|           9.80|           9.70|           9.70|           9.80|\n|          IE|   Y25_49|          38.50|          38.50|          38.30|          38.40|          38.10|          37.70|          37.10|          36.70|          36.50|          36.20|          35.80|          35.60|\n|          LT|   Y50_64|          17.10|          17.50|          18.20|          19.00|          19.70|          20.20|          20.60|          20.80|          21.10|          21.40|          21.70|          21.90|\n|          MD|   Y65_79|           8.50|           8.30|           8.20|           8.00|           7.90|           7.80|           7.90|           8.20|           NULL|           8.90|           NULL|           NULL|\n|          AD|   Y15_24|          10.50|          10.20|           9.80|           9.80|           9.80|          10.00|           NULL|           NULL|           NULL|           NULL|           NULL|          10.60|\n+------------+---------+---------------+---------------+---------------+---------------+---------------+---------------+---------------+---------------+---------------+---------------+---------------+---------------+\nonly showing top 15 rows\n\n"
     ]
    }
   ],
   "source": [
    "spark.read.format(\"delta\").load(f\"{mount_point_processed}/{delta_file_location}\").show(15)"
   ]
  },
  {
   "cell_type": "code",
   "execution_count": 0,
   "metadata": {
    "application/vnd.databricks.v1+cell": {
     "cellMetadata": {
      "byteLimit": 2048000,
      "rowLimit": 10000
     },
     "inputWidgets": {},
     "nuid": "9bd895db-a3b2-40cc-87a3-feec8e68937d",
     "showTitle": false,
     "tableResultSettingsMap": {},
     "title": ""
    }
   },
   "outputs": [
    {
     "output_type": "stream",
     "name": "stdout",
     "output_type": "stream",
     "text": [
      "288\n"
     ]
    }
   ],
   "source": [
    "print(df.count())"
   ]
  },
  {
   "cell_type": "code",
   "execution_count": 0,
   "metadata": {
    "application/vnd.databricks.v1+cell": {
     "cellMetadata": {
      "byteLimit": 2048000,
      "rowLimit": 10000
     },
     "inputWidgets": {},
     "nuid": "ee9da3a9-6887-44f6-b1c7-3335631c6d0b",
     "showTitle": false,
     "tableResultSettingsMap": {},
     "title": ""
    }
   },
   "outputs": [],
   "source": []
  }
 ],
 "metadata": {
  "application/vnd.databricks.v1+notebook": {
   "dashboards": [],
   "environmentMetadata": {
    "base_environment": "",
    "client": "1"
   },
   "language": "python",
   "notebookMetadata": {
    "pythonIndentUnit": 4
   },
   "notebookName": "20241023_incremental-population-by-age",
   "widgets": {}
  },
  "language_info": {
   "name": "python"
  }
 },
 "nbformat": 4,
 "nbformat_minor": 0
}
